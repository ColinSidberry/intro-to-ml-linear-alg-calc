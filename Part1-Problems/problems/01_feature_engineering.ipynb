{
  "cells": [
    {
      "cell_type": "markdown",
      "metadata": {
        "id": "view-in-github",
        "colab_type": "text"
      },
      "source": [
        "<a href=\"https://colab.research.google.com/github/ColinSidberry/intro-to-ml-linear-alg-calc/blob/main/Part1-Problems/problems/01_feature_engineering.ipynb\" target=\"_parent\"><img src=\"https://colab.research.google.com/assets/colab-badge.svg\" alt=\"Open In Colab\"/></a>"
      ]
    },
    {
      "cell_type": "markdown",
      "metadata": {
        "id": "6himAnxT-wtt"
      },
      "source": [
        "# Problem 1: Feature Engineering - Designing the Model's \"Sensors\"\n",
        "\n",
        "## Learning Objectives\n",
        "By the end of this problem, you will:\n",
        "- Understand what features are and why they matter\n",
        "- Design multiple feature sets for sentiment classification\n",
        "- See how feature choices affect model performance\n",
        "- Connect feature engineering to the broader ML pipeline\n",
        "\n",
        "## Task Overview\n",
        "\n",
        "1. **Understanding Baseline Features** - Examine our starting feature set\n",
        "2. **Design Your Own Feature Sets** - Create 5 different feature engineering approaches\n",
        "3. **Evaluate Feature Performance** - Compare separability and effectiveness\n",
        "4. **Visualization Analysis** - See how features separate classes in 2D space\n",
        "5. **Handle Edge Cases** - Solve the \"Love the fins!\" nickname challenge\n",
        "6. **Feature Engineering Insights** - Explore trade-offs (exclamation marks)\n",
        "7. **Reflection and Next Steps** - Connect to the bigger ML picture\n",
        "\n",
        "---\n",
        "\n",
        "## The Story So Far\n",
        "\n",
        "You want to build a sentiment classifier for sports tweets. When someone tweets \"Go Dolphins!\", you want your model to recognize it as positive sentiment. When they tweet \"Terrible game\", you want it to recognize negative sentiment.\n",
        "\n",
        "But here's the fundamental challenge: **computers work with numbers, not words**.\n",
        "\n",
        "Your neural network can't directly process \"Go Dolphins!\" - it needs numbers it can multiply, add, and optimize. Features are the bridge between human language and mathematical computation.\n",
        "\n",
        "## What Are Features?\n",
        "\n",
        "**Features are the model's sensors** - measurable properties that capture important aspects of your data.\n",
        "\n",
        "Think of them like this:\n",
        "- A doctor uses sensors: blood pressure, temperature, heart rate\n",
        "- A weather app uses sensors: temperature, humidity, wind speed\n",
        "- Your sentiment classifier uses features: word count, exclamation marks, team mentions\n",
        "\n",
        "**The key insight**: Your model can only learn from what it can \"see\" through its features. Choose them wisely!"
      ]
    },
    {
      "cell_type": "code",
      "source": [
        "!git clone https://github.com/ColinSidberry/intro-to-ml-linear-alg-calc.git\n",
        "%cd intro-to-ml-linear-alg-calc"
      ],
      "metadata": {
        "id": "_BA5gn3m-25J",
        "outputId": "e79018b2-9dd1-47a9-f581-512f4cd765cf",
        "colab": {
          "base_uri": "https://localhost:8080/"
        }
      },
      "execution_count": 1,
      "outputs": [
        {
          "output_type": "stream",
          "name": "stdout",
          "text": [
            "Cloning into 'intro-to-ml-linear-alg-calc'...\n",
            "remote: Enumerating objects: 35, done.\u001b[K\n",
            "remote: Counting objects: 100% (35/35), done.\u001b[K\n",
            "remote: Compressing objects: 100% (29/29), done.\u001b[K\n",
            "remote: Total 35 (delta 5), reused 35 (delta 5), pack-reused 0 (from 0)\u001b[K\n",
            "Receiving objects: 100% (35/35), 517.51 KiB | 3.75 MiB/s, done.\n",
            "Resolving deltas: 100% (5/5), done.\n",
            "/content/intro-to-ml-linear-alg-calc\n"
          ]
        }
      ]
    },
    {
      "cell_type": "code",
      "execution_count": 2,
      "metadata": {
        "id": "C0peyJZk-wtv",
        "outputId": "3e1d6ad3-b3fc-4d58-ee78-09958665fede",
        "colab": {
          "base_uri": "https://localhost:8080/"
        }
      },
      "outputs": [
        {
          "output_type": "stream",
          "name": "stdout",
          "text": [
            "Loaded dataset:\n",
            "Features shape: (16, 3)\n",
            "Feature names: ['word_count', 'has_team', 'has_exclamation']\n",
            "Sample texts: ['Go Dolphins!', 'Terrible game', 'Love the fins!']\n"
          ]
        }
      ],
      "source": [
        "# Setup and imports\n",
        "import numpy as np\n",
        "import pandas as pd\n",
        "import matplotlib.pyplot as plt\n",
        "import seaborn as sns\n",
        "from typing import Dict, List\n",
        "import re\n",
        "\n",
        "# Import our custom utilities\n",
        "import sys\n",
        "sys.path.append('./utils')\n",
        "from data_generators import load_sports_dataset, create_sports_tweets_features\n",
        "from visualization import plot_feature_space_2d\n",
        "\n",
        "# Load the dataset\n",
        "features, labels, feature_names, texts = load_sports_dataset()\n",
        "\n",
        "print(\"Loaded dataset:\")\n",
        "print(f\"Features shape: {features.shape}\")\n",
        "print(f\"Feature names: {feature_names}\")\n",
        "print(f\"Sample texts: {texts[:3]}\")"
      ]
    },
    {
      "cell_type": "markdown",
      "metadata": {
        "id": "XQ0N1W28-wtw"
      },
      "source": [
        "## Task 1: Understanding the Baseline Features\n",
        "\n",
        "Let's examine our starting feature set: `[word_count, has_team, has_exclamation]`"
      ]
    },
    {
      "cell_type": "code",
      "execution_count": 3,
      "metadata": {
        "id": "A7Q0tPw6-wtw",
        "outputId": "1a27b5a6-ef34-4714-c4a2-ece5dc88e629",
        "colab": {
          "base_uri": "https://localhost:8080/"
        }
      },
      "outputs": [
        {
          "output_type": "stream",
          "name": "stdout",
          "text": [
            "Text: 'Go Dolphins!'\n",
            "Features:\n",
            "  word_count: 2\n",
            "  has_team: 1.0\n",
            "  has_exclamation: 1.0\n",
            "\n",
            "Feature Vector: [2, 1.0, 1.0]\n"
          ]
        }
      ],
      "source": [
        "# Examine the baseline features for our key example\n",
        "go_dolphins_text = \"Go Dolphins!\"\n",
        "go_dolphins_features = create_sports_tweets_features(go_dolphins_text)\n",
        "\n",
        "print(f\"Text: '{go_dolphins_text}'\")\n",
        "print(\"Features:\")\n",
        "for name, value in go_dolphins_features.items():\n",
        "    print(f\"  {name}: {value}\")\n",
        "\n",
        "print(\"\\nFeature Vector: [{}]\".format(\", \".join(str(v) for v in go_dolphins_features.values())))"
      ]
    },
    {
      "cell_type": "code",
      "execution_count": 4,
      "metadata": {
        "id": "R9qZexon-wtw",
        "outputId": "8c37642f-3d29-4ebb-8181-ae8808dea86f",
        "colab": {
          "base_uri": "https://localhost:8080/"
        }
      },
      "outputs": [
        {
          "output_type": "stream",
          "name": "stdout",
          "text": [
            "Feature values for all tweets:\n",
            "   word_count  has_team  has_exclamation sentiment                      text\n",
            "0         2.0       1.0              1.0  Positive              Go Dolphins!\n",
            "1         2.0       0.0              0.0  Negative             Terrible game\n",
            "2         3.0       1.0              1.0  Positive            Love the fins!\n",
            "3         2.0       0.0              0.0  Negative              Bad coaching\n",
            "4         2.0       0.0              1.0  Positive               Great win!!\n",
            "5         3.0       0.0              0.0  Negative            Hate this team\n",
            "6         2.0       0.0              1.0  Positive        Amazing touchdown!\n",
            "7         3.0       0.0              0.0  Negative         Worst season ever\n",
            "8         3.0       1.0              1.0  Positive  Dolphins are incredible!\n",
            "9         3.0       0.0              0.0  Negative           This team sucks\n"
          ]
        }
      ],
      "source": [
        "# Let's see how all tweets in our dataset map to feature space\n",
        "df = pd.DataFrame(features, columns=feature_names)\n",
        "df['sentiment'] = ['Positive' if label == 1 else 'Negative' for label in labels]\n",
        "df['text'] = texts\n",
        "\n",
        "print(\"Feature values for all tweets:\")\n",
        "print(df.head(10))"
      ]
    },
    {
      "cell_type": "markdown",
      "metadata": {
        "id": "IvEEQtGo-wtw"
      },
      "source": [
        "**🤔 Reflection Questions:**\n",
        "1. Do you see any patterns in how positive vs negative tweets differ?\n",
        "2. Are there tweets that might be hard to classify with these features?\n",
        "3. What information is our current feature set missing?"
      ]
    },
    {
      "cell_type": "markdown",
      "metadata": {
        "id": "SojEiYG3-wtw"
      },
      "source": [
        "## Task 2: Design Your Own Feature Sets\n",
        "\n",
        "Now it's your turn! Design 5 different feature sets that might capture sentiment better than our baseline.\n",
        "\n",
        "**Some ideas to consider:**\n",
        "- `has_negative_words`: Does the tweet contain words like \"bad\", \"terrible\", \"awful\"?\n",
        "- `word_length_avg`: Average length of words (excited tweets might use longer words)\n",
        "- `has_superlatives`: Contains \"best\", \"worst\", \"amazing\", \"terrible\"?\n",
        "- `capitalization_ratio`: Fraction of characters that are uppercase\n",
        "- `punctuation_count`: Total number of punctuation marks\n",
        "\n",
        "**Your challenge**: Implement each feature set and see how it performs!"
      ]
    },
    {
      "cell_type": "code",
      "execution_count": null,
      "metadata": {
        "id": "BxYfDhKo-wtw",
        "outputId": "85206265-7923-4c7b-8985-fbb996869603"
      },
      "outputs": [
        {
          "name": "stdout",
          "output_type": "stream",
          "text": [
            "Text: 'Amazing game! Love the Dolphins!'\n",
            "Features: {'positive_word_count': 0, 'negative_word_count': 0, 'emotional_intensity': 0}\n"
          ]
        }
      ],
      "source": [
        "def feature_set_1_emotional_words(text: str) -> Dict[str, float]:\n",
        "    \"\"\"\n",
        "    Feature Set 1: Focus on emotional words\n",
        "\n",
        "    TODO: Implement features that capture emotional language\n",
        "    \"\"\"\n",
        "    text_lower = text.lower()\n",
        "\n",
        "    # Positive emotional words\n",
        "    positive_words = ['amazing', 'great', 'love', 'best', 'incredible', 'fantastic', 'awesome']\n",
        "\n",
        "    # Negative emotional words\n",
        "    negative_words = ['terrible', 'bad', 'awful', 'worst', 'hate', 'horrible', 'disappointing']\n",
        "\n",
        "    # TODO: Count positive and negative words\n",
        "    # TODO: Calculate emotional intensity (ratio of emotional words to total words)\n",
        "\n",
        "    features = {\n",
        "        'positive_word_count': 0,  # Replace with your implementation\n",
        "        'negative_word_count': 0,  # Replace with your implementation\n",
        "        'emotional_intensity': 0,  # Replace with your implementation\n",
        "    }\n",
        "\n",
        "    return features\n",
        "\n",
        "# Test your implementation\n",
        "test_text = \"Amazing game! Love the Dolphins!\"\n",
        "result = feature_set_1_emotional_words(test_text)\n",
        "print(f\"Text: '{test_text}'\")\n",
        "print(f\"Features: {result}\")"
      ]
    },
    {
      "cell_type": "code",
      "execution_count": null,
      "metadata": {
        "id": "15ntDCgV-wtw",
        "outputId": "db4e8f6c-4e09-4198-bf68-0c945bcb707e"
      },
      "outputs": [
        {
          "name": "stdout",
          "output_type": "stream",
          "text": [
            "Text: 'AMAZING GAME!!!'\n",
            "Features: {'capitalization_ratio': 0, 'punctuation_count': 0, 'avg_word_length': 0, 'has_repeated_punctuation': 0}\n"
          ]
        }
      ],
      "source": [
        "def feature_set_2_text_style(text: str) -> Dict[str, float]:\n",
        "    \"\"\"\n",
        "    Feature Set 2: Focus on text style and formatting\n",
        "\n",
        "    TODO: Implement features that capture how text is written\n",
        "    \"\"\"\n",
        "\n",
        "    # TODO: Calculate capitalization ratio\n",
        "    # TODO: Count total punctuation marks\n",
        "    # TODO: Calculate average word length\n",
        "    # TODO: Check for repeated punctuation (!!!, ???)\n",
        "\n",
        "    features = {\n",
        "        'capitalization_ratio': 0,    # Replace with your implementation\n",
        "        'punctuation_count': 0,       # Replace with your implementation\n",
        "        'avg_word_length': 0,         # Replace with your implementation\n",
        "        'has_repeated_punctuation': 0, # Replace with your implementation\n",
        "    }\n",
        "\n",
        "    return features\n",
        "\n",
        "# Test your implementation\n",
        "test_text = \"AMAZING GAME!!!\"\n",
        "result = feature_set_2_text_style(test_text)\n",
        "print(f\"Text: '{test_text}'\")\n",
        "print(f\"Features: {result}\")"
      ]
    },
    {
      "cell_type": "code",
      "execution_count": null,
      "metadata": {
        "id": "4OkKmZ3s-wtw"
      },
      "outputs": [],
      "source": [
        "# TODO: Implement 3 more feature sets\n",
        "# Feature Set 3: Domain-specific (sports terms, team names, etc.)\n",
        "# Feature Set 4: Linguistic patterns (negation, comparatives, etc.)\n",
        "# Feature Set 5: Your creative idea!\n",
        "\n",
        "def feature_set_3_sports_domain(text: str) -> Dict[str, float]:\n",
        "    \"\"\"Your implementation here\"\"\"\n",
        "    return {'placeholder': 0}\n",
        "\n",
        "def feature_set_4_linguistic(text: str) -> Dict[str, float]:\n",
        "    \"\"\"Your implementation here\"\"\"\n",
        "    return {'placeholder': 0}\n",
        "\n",
        "def feature_set_5_creative(text: str) -> Dict[str, float]:\n",
        "    \"\"\"Your creative feature set - surprise us!\"\"\"\n",
        "    return {'placeholder': 0}"
      ]
    },
    {
      "cell_type": "markdown",
      "metadata": {
        "id": "Uq1fo9ZA-wtx"
      },
      "source": [
        "## Task 3: Evaluate Your Feature Sets\n",
        "\n",
        "Now let's see how well each feature set separates positive from negative tweets."
      ]
    },
    {
      "cell_type": "code",
      "execution_count": null,
      "metadata": {
        "id": "ZW1Aq0hE-wtx",
        "outputId": "e8245e29-73d7-40a6-a804-a4324e5b3b4d"
      },
      "outputs": [
        {
          "name": "stdout",
          "output_type": "stream",
          "text": [
            "\n",
            "Evaluating Baseline feature set...\n",
            "  Separability score: 1.125\n",
            "  Positive class mean: [2.625 0.5   1.   ]\n",
            "  Negative class mean: [2.5 0.  0. ]\n",
            "\n",
            "Evaluating Emotional Words feature set...\n",
            "  Separability score: 0.000\n",
            "  Positive class mean: [0. 0. 0.]\n",
            "  Negative class mean: [0. 0. 0.]\n",
            "\n",
            "Evaluating Text Style feature set...\n",
            "  Separability score: 0.000\n",
            "  Positive class mean: [0. 0. 0. 0.]\n",
            "  Negative class mean: [0. 0. 0. 0.]\n",
            "\n",
            "Evaluating Sports Domain feature set...\n",
            "  Separability score: 0.000\n",
            "  Positive class mean: [0.]\n",
            "  Negative class mean: [0.]\n",
            "\n",
            "Evaluating Linguistic feature set...\n",
            "  Separability score: 0.000\n",
            "  Positive class mean: [0.]\n",
            "  Negative class mean: [0.]\n",
            "\n",
            "Evaluating Creative feature set...\n",
            "  Separability score: 0.000\n",
            "  Positive class mean: [0.]\n",
            "  Negative class mean: [0.]\n"
          ]
        }
      ],
      "source": [
        "# Apply each feature set to all tweets\n",
        "feature_sets = {\n",
        "    'Baseline': create_sports_tweets_features,\n",
        "    'Emotional Words': feature_set_1_emotional_words,\n",
        "    'Text Style': feature_set_2_text_style,\n",
        "    'Sports Domain': feature_set_3_sports_domain,\n",
        "    'Linguistic': feature_set_4_linguistic,\n",
        "    'Creative': feature_set_5_creative,\n",
        "}\n",
        "\n",
        "# For each feature set, calculate separability\n",
        "results = {}\n",
        "\n",
        "for name, feature_func in feature_sets.items():\n",
        "    print(f\"\\nEvaluating {name} feature set...\")\n",
        "\n",
        "    # Extract features for all tweets\n",
        "    feature_dicts = [feature_func(text) for text in texts]\n",
        "\n",
        "    if len(feature_dicts[0]) == 0:\n",
        "        print(\"  Skipping - no features implemented\")\n",
        "        continue\n",
        "\n",
        "    # Convert to arrays\n",
        "    feature_names_set = list(feature_dicts[0].keys())\n",
        "    features_array = np.array([[d[fname] for fname in feature_names_set] for d in feature_dicts])\n",
        "\n",
        "    # Calculate mean features for positive and negative classes\n",
        "    pos_mask = labels == 1\n",
        "    neg_mask = labels == 0\n",
        "\n",
        "    pos_mean = features_array[pos_mask].mean(axis=0)\n",
        "    neg_mean = features_array[neg_mask].mean(axis=0)\n",
        "\n",
        "    # Calculate separability (distance between class means)\n",
        "    separability = np.linalg.norm(pos_mean - neg_mean)\n",
        "\n",
        "    results[name] = {\n",
        "        'features': features_array,\n",
        "        'feature_names': feature_names_set,\n",
        "        'separability': separability,\n",
        "        'pos_mean': pos_mean,\n",
        "        'neg_mean': neg_mean\n",
        "    }\n",
        "\n",
        "    print(f\"  Separability score: {separability:.3f}\")\n",
        "    print(f\"  Positive class mean: {pos_mean}\")\n",
        "    print(f\"  Negative class mean: {neg_mean}\")"
      ]
    },
    {
      "cell_type": "markdown",
      "metadata": {
        "id": "fCe0l0z7-wtx"
      },
      "source": [
        "## Task 4: Visualize Feature Spaces\n",
        "\n",
        "Let's visualize how well different feature sets separate the classes."
      ]
    },
    {
      "cell_type": "code",
      "execution_count": null,
      "metadata": {
        "id": "SNm2unwb-wtx",
        "outputId": "c3f61292-bb89-485d-b00f-5a93e18c4551"
      },
      "outputs": [
        {
          "data": {
            "image/png": "[encoded data removed]",
            "text/plain": [
              "<Figure size 1800x1200 with 6 Axes>"
            ]
          },
          "metadata": {},
          "output_type": "display_data"
        }
      ],
      "source": [
        "# Create visualizations for feature sets with 2+ features\n",
        "fig, axes = plt.subplots(2, 3, figsize=(18, 12))\n",
        "axes = axes.flatten()\n",
        "\n",
        "plot_idx = 0\n",
        "for name, result in results.items():\n",
        "    if len(result['feature_names']) >= 2 and plot_idx < 6:\n",
        "        # Use first two features for 2D visualization\n",
        "        features_2d = result['features'][:, :2]\n",
        "        feature_names_2d = result['feature_names'][:2]\n",
        "\n",
        "        ax = axes[plot_idx]\n",
        "\n",
        "        # Plot positive and negative examples\n",
        "        pos_mask = labels == 1\n",
        "        neg_mask = labels == 0\n",
        "\n",
        "        ax.scatter(features_2d[pos_mask, 0], features_2d[pos_mask, 1],\n",
        "                  c='green', label='Positive', alpha=0.7, s=100)\n",
        "        ax.scatter(features_2d[neg_mask, 0], features_2d[neg_mask, 1],\n",
        "                  c='red', label='Negative', alpha=0.7, s=100)\n",
        "\n",
        "        ax.set_xlabel(feature_names_2d[0])\n",
        "        ax.set_ylabel(feature_names_2d[1])\n",
        "        ax.set_title(f'{name}\\nSeparability: {result[\"separability\"]:.3f}')\n",
        "        ax.legend()\n",
        "        ax.grid(True, alpha=0.3)\n",
        "\n",
        "        plot_idx += 1\n",
        "\n",
        "# Hide unused subplots\n",
        "for i in range(plot_idx, 6):\n",
        "    axes[i].set_visible(False)\n",
        "\n",
        "plt.tight_layout()\n",
        "plt.show()"
      ]
    },
    {
      "cell_type": "markdown",
      "metadata": {
        "id": "gvqukyu6-wtx"
      },
      "source": [
        "## Task 5: The \"Love the fins!\" Challenge\n",
        "\n",
        "Here's a specific challenge from the problem set: How do you handle \"Love the fins!\" where \"fins\" is a nickname for \"Dolphins\"?"
      ]
    },
    {
      "cell_type": "code",
      "execution_count": null,
      "metadata": {
        "id": "8zDNcXb6-wtx",
        "outputId": "fc363a9f-ddc7-4bb0-aa94-6577d632f20f"
      },
      "outputs": [
        {
          "name": "stdout",
          "output_type": "stream",
          "text": [
            "'Go Dolphins!': {'has_team_official': 0, 'has_team_nickname': 0, 'has_team_generic': 0, 'team_confidence': 0}\n",
            "'Love the fins!': {'has_team_official': 0, 'has_team_nickname': 0, 'has_team_generic': 0, 'team_confidence': 0}\n",
            "'Miami is awesome!': {'has_team_official': 0, 'has_team_nickname': 0, 'has_team_generic': 0, 'team_confidence': 0}\n",
            "'Go team!': {'has_team_official': 0, 'has_team_nickname': 0, 'has_team_generic': 0, 'team_confidence': 0}\n"
          ]
        }
      ],
      "source": [
        "# Test different approaches to the nickname problem\n",
        "test_cases = [\n",
        "    \"Go Dolphins!\",\n",
        "    \"Love the fins!\",\n",
        "    \"Miami is awesome!\",\n",
        "    \"Go team!\"\n",
        "]\n",
        "\n",
        "def improved_team_detection(text: str) -> Dict[str, float]:\n",
        "    \"\"\"\n",
        "    TODO: Implement better team detection that handles:\n",
        "    - Official names: \"Dolphins\", \"Miami\"\n",
        "    - Nicknames: \"fins\", \"phins\"\n",
        "    - Generic terms: \"team\"\n",
        "    \"\"\"\n",
        "    text_lower = text.lower()\n",
        "\n",
        "    # TODO: Create comprehensive team detection\n",
        "    team_terms = []  # Add your team terms here\n",
        "\n",
        "    features = {\n",
        "        'has_team_official': 0,    # Official team names\n",
        "        'has_team_nickname': 0,    # Nicknames and slang\n",
        "        'has_team_generic': 0,     # Generic terms like \"team\"\n",
        "        'team_confidence': 0,      # How confident are we this mentions the team?\n",
        "    }\n",
        "\n",
        "    return features\n",
        "\n",
        "# Test your implementation\n",
        "for text in test_cases:\n",
        "    features = improved_team_detection(text)\n",
        "    print(f\"'{text}': {features}\")"
      ]
    },
    {
      "cell_type": "markdown",
      "metadata": {
        "id": "W4E_13HV-wtx"
      },
      "source": [
        "## Task 6: Feature Engineering Insights\n",
        "\n",
        "Let's explore some of the fundamental trade-offs in feature engineering."
      ]
    },
    {
      "cell_type": "code",
      "execution_count": null,
      "metadata": {
        "id": "IV2zagUe-wtx",
        "outputId": "4747c520-16d4-4b61-bfcf-1307bc0ccf57"
      },
      "outputs": [
        {
          "name": "stdout",
          "output_type": "stream",
          "text": [
            "Different approaches to exclamation mark features:\n",
            "'Go Dolphins':\n",
            "  has_exclamation_binary: 0.000\n",
            "  exclamation_count: 0.000\n",
            "  exclamation_ratio: 0.000\n",
            "  exclamation_capped: 0.000\n",
            "  exclamation_log: 0.000\n",
            "\n",
            "'Go Dolphins!':\n",
            "  has_exclamation_binary: 1.000\n",
            "  exclamation_count: 1.000\n",
            "  exclamation_ratio: 0.083\n",
            "  exclamation_capped: 1.000\n",
            "  exclamation_log: 0.693\n",
            "\n",
            "'Go Dolphins!!':\n",
            "  has_exclamation_binary: 1.000\n",
            "  exclamation_count: 2.000\n",
            "  exclamation_ratio: 0.154\n",
            "  exclamation_capped: 2.000\n",
            "  exclamation_log: 1.099\n",
            "\n",
            "'Go Dolphins!!!!!!':\n",
            "  has_exclamation_binary: 1.000\n",
            "  exclamation_count: 6.000\n",
            "  exclamation_ratio: 0.353\n",
            "  exclamation_capped: 3.000\n",
            "  exclamation_log: 1.946\n",
            "\n"
          ]
        }
      ],
      "source": [
        "# Compare different approaches to handling exclamation marks\n",
        "test_texts = [\n",
        "    \"Go Dolphins\",\n",
        "    \"Go Dolphins!\",\n",
        "    \"Go Dolphins!!\",\n",
        "    \"Go Dolphins!!!!!!\"\n",
        "]\n",
        "\n",
        "def compare_exclamation_features(text: str) -> Dict[str, float]:\n",
        "    \"\"\"\n",
        "    Compare different ways to handle exclamation marks\n",
        "    \"\"\"\n",
        "    features = {\n",
        "        'has_exclamation_binary': 1.0 if '!' in text else 0.0,\n",
        "        'exclamation_count': text.count('!'),\n",
        "        'exclamation_ratio': text.count('!') / len(text),\n",
        "        'exclamation_capped': min(text.count('!'), 3),  # Cap at 3\n",
        "        'exclamation_log': np.log1p(text.count('!')),   # Log transform\n",
        "    }\n",
        "\n",
        "    return features\n",
        "\n",
        "print(\"Different approaches to exclamation mark features:\")\n",
        "for text in test_texts:\n",
        "    features = compare_exclamation_features(text)\n",
        "    print(f\"'{text}':\")\n",
        "    for name, value in features.items():\n",
        "        print(f\"  {name}: {value:.3f}\")\n",
        "    print()"
      ]
    },
    {
      "cell_type": "markdown",
      "metadata": {
        "id": "y3_BWNkf-wtx"
      },
      "source": [
        "## Task 7: Reflection and Next Steps\n",
        "\n",
        "**🤔 Critical Thinking Questions:**\n",
        "\n",
        "1. **Which feature set worked best and why?**\n",
        "   - Look at the separability scores\n",
        "   - Consider the visualizations\n",
        "   - Think about what patterns each feature set captures\n",
        "\n",
        "2. **What are the limitations of your features?**\n",
        "   - What examples would they misclassify?\n",
        "   - What information are they missing?\n",
        "   - How might they fail on new data?\n",
        "\n",
        "3. **How do features connect to the bigger picture?**\n",
        "   - Features become the input to mathematical operations (dot products!)\n",
        "   - The model will learn weights for each feature\n",
        "   - Better features make the model's job easier\n",
        "\n",
        "**Write your reflections here:**"
      ]
    },
    {
      "cell_type": "markdown",
      "metadata": {
        "id": "3Dxh-ktt-wtx"
      },
      "source": [
        "*Your reflection goes here...*"
      ]
    },
    {
      "cell_type": "markdown",
      "metadata": {
        "id": "wSOv9UKh-wtx"
      },
      "source": [
        "## What's Next?\n",
        "\n",
        "You've now seen how raw text becomes numbers through feature engineering. These feature vectors will become the input to the mathematical operations we'll explore in Problem 2: Dot Products.\n",
        "\n",
        "**Coming up:**\n",
        "- **Problem 2**: How dot products turn your features into predictions\n",
        "- **Problem 3**: How loss functions measure prediction quality  \n",
        "- **Problem 4**: How gradient descent learns optimal weights\n",
        "- **Problem 5**: How matrix operations scale to real datasets\n",
        "\n",
        "**Key Takeaway**: Features are the model's \"sensors\" - they determine what patterns the model can possibly learn. Choose them thoughtfully!\n",
        "\n",
        "## Extension Challenges\n",
        "\n",
        "Ready for more? Try these advanced challenges:\n",
        "\n",
        "1. **Emoji Analysis**: Create features that detect and interpret emoji sentiment\n",
        "2. **Negation Handling**: Build features that understand \"not bad\" vs \"bad\"\n",
        "3. **Context Windows**: Create features that look at word pairs or triplets\n",
        "4. **Statistical Features**: Use TF-IDF or word frequency statistics\n",
        "5. **Domain Adaptation**: Test your features on tweets about other sports teams"
      ]
    },
    {
      "cell_type": "code",
      "execution_count": null,
      "metadata": {
        "id": "doozdmpg5n",
        "outputId": "127cbd4f-e8c4-4753-ae13-c7476abf0cd4"
      },
      "outputs": [
        {
          "name": "stdout",
          "output_type": "stream",
          "text": [
            "Loaded dataset:\n",
            "Features shape: (16, 3)\n",
            "Feature names: ['word_count', 'has_team', 'has_exclamation']\n",
            "Sample texts: ['Go Dolphins!', 'Terrible game', 'Love the fins!']\n"
          ]
        }
      ],
      "source": [
        "# Setup and imports\n",
        "import numpy as np\n",
        "import pandas as pd\n",
        "import matplotlib.pyplot as plt\n",
        "import seaborn as sns\n",
        "from typing import Dict, List\n",
        "import re\n",
        "\n",
        "# Import our custom utilities\n",
        "import sys\n",
        "sys.path.append('../../utils')\n",
        "from data_generators import load_sports_dataset, create_sports_tweets_features\n",
        "from visualization import plot_feature_space_2d\n",
        "\n",
        "# Load the dataset\n",
        "features, labels, feature_names, texts = load_sports_dataset()\n",
        "\n",
        "print(\"Loaded dataset:\")\n",
        "print(f\"Features shape: {features.shape}\")\n",
        "print(f\"Feature names: {feature_names}\")\n",
        "print(f\"Sample texts: {texts[:3]}\")"
      ]
    },
    {
      "cell_type": "code",
      "execution_count": null,
      "metadata": {
        "id": "c37oqgfm5u6",
        "outputId": "8005a434-1685-417c-a361-4a4fa096026f"
      },
      "outputs": [
        {
          "name": "stdout",
          "output_type": "stream",
          "text": [
            "Current working directory: /Users/colinsidberry/Northeastern/NLP/2-Intro_to_ML,Linear_Alg,Calc\n",
            "Contents of current directory: ['requirements.txt', 'Part1-Problems', 'tests', '.claude', 'utils', 'docs', 'README.md', 'venv', 'Part2-Problems']\n",
            "Contents of utils directory: ['gradient_helpers.py', '__pycache__', 'visualization.py', 'data_generators.py']\n"
          ]
        }
      ],
      "source": [
        "# Check the correct path to utils\n",
        "import os\n",
        "print(\"Current working directory:\", os.getcwd())\n",
        "print(\"Contents of current directory:\", os.listdir('.'))\n",
        "print(\"Contents of utils directory:\", os.listdir('./utils'))"
      ]
    },
    {
      "cell_type": "code",
      "execution_count": null,
      "metadata": {
        "id": "ur8r2osz39n",
        "outputId": "66d9b413-8afc-4dc6-dae2-2e2b2a1d70a4"
      },
      "outputs": [
        {
          "name": "stdout",
          "output_type": "stream",
          "text": [
            "Loaded dataset:\n",
            "Features shape: (16, 3)\n",
            "Feature names: ['word_count', 'has_team', 'has_exclamation']\n",
            "Sample texts: ['Go Dolphins!', 'Terrible game', 'Love the fins!']\n"
          ]
        }
      ],
      "source": [
        "# Setup and imports\n",
        "import numpy as np\n",
        "import pandas as pd\n",
        "import matplotlib.pyplot as plt\n",
        "import seaborn as sns\n",
        "from typing import Dict, List\n",
        "import re\n",
        "\n",
        "# Import our custom utilities\n",
        "import sys\n",
        "sys.path.append('./utils')\n",
        "from data_generators import load_sports_dataset, create_sports_tweets_features\n",
        "from visualization import plot_feature_space_2d\n",
        "\n",
        "# Load the dataset\n",
        "features, labels, feature_names, texts = load_sports_dataset()\n",
        "\n",
        "print(\"Loaded dataset:\")\n",
        "print(f\"Features shape: {features.shape}\")\n",
        "print(f\"Feature names: {feature_names}\")\n",
        "print(f\"Sample texts: {texts[:3]}\")"
      ]
    }
  ],
  "metadata": {
    "kernelspec": {
      "display_name": "Python 3 (ipykernel)",
      "language": "python",
      "name": "python3"
    },
    "language_info": {
      "codemirror_mode": {
        "name": "ipython",
        "version": 3
      },
      "file_extension": ".py",
      "mimetype": "text/x-python",
      "name": "python",
      "nbconvert_exporter": "python",
      "pygments_lexer": "ipython3",
      "version": "3.13.0"
    },
    "colab": {
      "provenance": [],
      "include_colab_link": true
    }
  },
  "nbformat": 4,
  "nbformat_minor": 0
}